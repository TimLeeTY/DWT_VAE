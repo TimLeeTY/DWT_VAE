{
 "cells": [
  {
   "cell_type": "code",
   "execution_count": 1,
   "metadata": {},
   "outputs": [
    {
     "name": "stdout",
     "output_type": "stream",
     "text": [
      "WARNING:tensorflow:From /Library/Frameworks/Python.framework/Versions/3.6/lib/python3.6/site-packages/tensorflow/python/framework/op_def_library.py:263: colocate_with (from tensorflow.python.framework.ops) is deprecated and will be removed in a future version.\n",
      "Instructions for updating:\n",
      "Colocations handled automatically by placer.\n",
      "WARNING:tensorflow:From /Library/Frameworks/Python.framework/Versions/3.6/lib/python3.6/site-packages/tensorflow/python/ops/math_ops.py:3066: to_int32 (from tensorflow.python.ops.math_ops) is deprecated and will be removed in a future version.\n",
      "Instructions for updating:\n",
      "Use tf.cast instead.\n",
      "WARNING:tensorflow:From /Library/Frameworks/Python.framework/Versions/3.6/lib/python3.6/site-packages/tensorflow/python/training/saver.py:1266: checkpoint_exists (from tensorflow.python.training.checkpoint_management) is deprecated and will be removed in a future version.\n",
      "Instructions for updating:\n",
      "Use standard file APIs to check for files with this prefix.\n",
      "INFO:tensorflow:Restoring parameters from tmp/modelDWT.ckpt\n"
     ]
    }
   ],
   "source": [
    "from sklearn.manifold import TSNE\n",
    "import tensorflow as tf\n",
    "import numpy as np\n",
    "import pywt\n",
    "import matplotlib.pyplot as plt\n",
    "from vae import VariationalAutoencoder\n",
    "from matplotlib.gridspec import GridSpec\n",
    "\n",
    "\n",
    "def _parse_input(serialised_input):\n",
    "    \"\"\" Parse serialised input into labelled dataset with NSynth features \"\"\"\n",
    "    parsed_output = tf.parse_single_example(serialised_input, nsynth_feature)\n",
    "    return parsed_output\n",
    "\n",
    "\n",
    "def filter_func(features):\n",
    "    \"\"\" Filter input data\"\"\"\n",
    "    result = tf.reshape(tf.equal(features['qualities'][2], 1), [])\n",
    "    return result\n",
    "\n",
    "\n",
    "def pre_process(batch, preproc=None):\n",
    "    \"\"\" Handles pre-processing of input data, using DWT or DFT\n",
    "    Normalises data to fit into [0, 1] range\n",
    "    \"\"\"\n",
    "    if preproc == 'DWT':\n",
    "        wt = pywt.Wavelet(wavelet)\n",
    "        batch = pywt.wavedec(batch, wt, axis=1, level=6)\n",
    "        batch = np.hstack(batch)[:, :time_steps]\n",
    "        batch = np.square(batch)\n",
    "        batch = np.divide(batch, np.amax(batch, axis=1)[:, None]+1e-10)\n",
    "    elif preproc == 'DFT':\n",
    "        batch = np.absolute(np.fft.fft(batch, axis=1))\n",
    "        batch = np.divide(batch, np.amax(batch, axis=1)[:, None]+1e-10)\n",
    "    elif preproc is None:\n",
    "        batch = np.square(batch)\n",
    "    else:\n",
    "        print('invalid preproc')\n",
    "        batch = np.square(batch)\n",
    "    return batch\n",
    "\n",
    "\n",
    "def test_plot(vae, valid, preproc=None):\n",
    "    \"\"\" Plot a sample from valid dataset and its reconstruction\n",
    "    for manual validation\n",
    "    \"\"\"\n",
    "    valid_in = valid.eval()\n",
    "    valid_in = pre_process(valid_in, preproc)\n",
    "    valid_recon = vae.reconstruct(valid_in)\n",
    "    f, (ax1, ax2) = plt.subplots(1, 2, sharex=False, sharey=True)\n",
    "    ax1.plot(valid_in[0])\n",
    "    ax2.plot(valid_recon[0])\n",
    "    plt.show()\n",
    "    return(valid_in)\n",
    "\n",
    "\n",
    "time_steps = 16000 * 4\n",
    "wavelet = 'db1'\n",
    "nsynth_feature = {\n",
    "    'note': tf.FixedLenFeature([], tf.int64),\n",
    "    'note_str': tf.FixedLenFeature([], tf.string),\n",
    "    'instrument': tf.FixedLenFeature([], tf.int64),\n",
    "    'instrument_str': tf.FixedLenFeature([], tf.string),\n",
    "    'pitch': tf.FixedLenFeature([], tf.int64),\n",
    "    'velocity': tf.FixedLenFeature([], tf.int64),\n",
    "    'sample_rate': tf.FixedLenFeature([], tf.int64),\n",
    "    'audio': tf.FixedLenFeature([time_steps], tf.float32),\n",
    "    'qualities': tf.FixedLenFeature([10], tf.int64),\n",
    "    'qualities_str': tf.VarLenFeature(tf.string),\n",
    "    'instrument_family': tf.FixedLenFeature([], tf.int64),\n",
    "    'instrument_family_str': tf.FixedLenFeature([], tf.string),\n",
    "    'instrument_source': tf.FixedLenFeature([], tf.int64),\n",
    "    'instrument_source_str': tf.FixedLenFeature([], tf.string),\n",
    "}\n",
    "\n",
    "sub_samp = 2\n",
    "div = 8\n",
    "time_steps = time_steps // sub_samp // div\n",
    "batch_size = 50\n",
    "n_samples = 289205\n",
    "\n",
    "# Define number of nodes in each layer\n",
    "vae_architecture = dict(\n",
    "    n_hidden_recog_1=2000,\n",
    "    n_hidden_recog_2=1000,\n",
    "    n_hidden_gener_1=1000,\n",
    "    n_hidden_gener_2=2000,\n",
    "    n_input=time_steps,\n",
    "    n_output=time_steps,\n",
    "    n_z=64\n",
    ")\n",
    "\n",
    "vae = VariationalAutoencoder(vae_architecture, batch_size=batch_size, restore='DWT')"
   ]
  },
  {
   "cell_type": "code",
   "execution_count": 2,
   "metadata": {
    "scrolled": false
   },
   "outputs": [],
   "source": [
    "nsynth_valid_2 = tf.data.TFRecordDataset(\"nsynth-valid.tfrecord\")\n",
    "nsynth_valid_1 = nsynth_valid_2.map(_parse_input)\n",
    "nsynth_valid = nsynth_valid_1.filter(filter_func).shuffle(buffer_size=1000).repeat().batch(50)\n",
    "\n",
    "iterator = nsynth_valid.make_one_shot_iterator().get_next()['audio']\n",
    "valid = vae.sess.run(iterator)[:, :16000*4//div:sub_samp]"
   ]
  },
  {
   "cell_type": "code",
   "execution_count": 3,
   "metadata": {},
   "outputs": [],
   "source": [
    "preproc = 'DWT'\n",
    "valid_procc = pre_process(valid, preproc)\n",
    "valid_recon = vae.reconstruct(valid_procc)\n",
    "valid_recon = np.divide(valid_recon, np.amax(valid_recon, axis=1)[:, None]+1e-10)\n",
    "\n"
   ]
  },
  {
   "cell_type": "code",
   "execution_count": 13,
   "metadata": {},
   "outputs": [
    {
     "data": {
      "image/png": "[encoded data removed]",
      "text/plain": [
       "<Figure size 576x432 with 4 Axes>"
      ]
     },
     "metadata": {},
     "output_type": "display_data"
    }
   ],
   "source": [
    "it=10\n",
    "procc = np.square(pywt.wavedec(valid[it], pywt.Wavelet('db1'), level=6))\n",
    "procc /= np.amax(np.hstack(procc))\n",
    "maxlen = len(procc[-1])\n",
    "\n",
    "procc_scalo = np.zeros((len(procc)-2, maxlen))\n",
    "recon_scalo = np.zeros((len(procc)-2, maxlen))\n",
    "counter=len(procc[0])+len(procc[1])\n",
    "for i in range(len(procc)-2):\n",
    "    each = procc[i+2]\n",
    "    each_len = len(each)\n",
    "    for j in range(maxlen):\n",
    "        if j//(maxlen//each_len) < each_len and (j)//(maxlen//each_len)+counter<4000:\n",
    "            procc_scalo[i,j] = each[j//(maxlen//each_len)]\n",
    "            recon_scalo[i,j] = valid_recon[it][(j)//(maxlen//each_len)+counter]\n",
    "    counter += each_len\n",
    "counter=0\n",
    "recon = []\n",
    "for i,v in enumerate(procc):\n",
    "    recon.append(np.zeros(len(v)))\n",
    "    for j,_ in enumerate(v):\n",
    "        if j+counter<len(valid_recon[it]):\n",
    "            recon[i][j] = np.sqrt(valid_recon[it,j+counter])\n",
    "    counter+=len(v)\n",
    "\n",
    "plt.rc('text', usetex=True)\n",
    "plt.rc('font', family='serif')\n",
    "fig=plt.figure(figsize=(8, 6))\n",
    "\n",
    "gs=GridSpec(2,2) \n",
    "\n",
    "ax1=fig.add_subplot(gs[1,0]) \n",
    "ax2=fig.add_subplot(gs[1,1]) \n",
    "ax3=fig.add_subplot(gs[0,0])\n",
    "ax4=fig.add_subplot(gs[0,1])\n",
    "\n",
    "im = ax1.imshow(procc_scalo)\n",
    "ax1.set_aspect(aspect=\"auto\")\n",
    "ax1.set_ylim([-0.5, 4.5])\n",
    "ax1.set_yticks([0, 1, 2, 3, 4])\n",
    "ax1.set_yticklabels([2, 3, 4, 5, 6])\n",
    "ax1.set_ylabel('Decomposition level')\n",
    "ax1.set_xticks([0, 500, 1000, 1500])\n",
    "ax1.set_xticklabels([0, 1000, 2000, 3000])\n",
    "ax1.set_xlabel('Time steps')\n",
    "\n",
    "im = ax2.imshow(recon_scalo)\n",
    "ax2.set_aspect(aspect=\"auto\")\n",
    "ax2.set_ylim([-0.5, 4.5])\n",
    "ax2.set_yticklabels([])\n",
    "ax2.set_xticks([0, 500, 1000, 1500, 2000])\n",
    "ax2.set_xticklabels([0, 1000, 2000, 3000, 4000])\n",
    "ax2.set_xlabel('Time steps')\n",
    "\n",
    "\n",
    "ax3.plot(valid_procc[it])\n",
    "ax3.set_yticks([0, 1])\n",
    "ax3.set_xlim([0, 4000])\n",
    "ax3.set_ylabel('Intensity')\n",
    "ax3.set_xticklabels([])\n",
    "\n",
    "ax4.plot(valid_recon[it])\n",
    "ax4.set_yticks([0, 1])\n",
    "ax4.set_xlim([0, 4000])\n",
    "ax4.set_yticklabels([])\n",
    "ax4.set_xticklabels([])\n",
    "\n",
    "plt.setp(ax3, title='Input')\n",
    "plt.setp(ax4, title='Reconstruction')\n",
    "\n",
    "\n",
    "gs.update(hspace=0, wspace=0)\n",
    "plt.tight_layout()\n",
    "fig.savefig('reconDWT_scalo.pdf')"
   ]
  },
  {
   "cell_type": "code",
   "execution_count": 5,
   "metadata": {},
   "outputs": [
    {
     "data": {
      "text/plain": [
       "1"
      ]
     },
     "execution_count": 5,
     "metadata": {},
     "output_type": "execute_result"
    }
   ],
   "source": [
    "(maxlen//each_len)"
   ]
  },
  {
   "cell_type": "code",
   "execution_count": null,
   "metadata": {},
   "outputs": [],
   "source": []
  }
 ],
 "metadata": {
  "kernelspec": {
   "display_name": "Python 3",
   "language": "python",
   "name": "python3"
  },
  "language_info": {
   "codemirror_mode": {
    "name": "ipython",
    "version": 3
   },
   "file_extension": ".py",
   "mimetype": "text/x-python",
   "name": "python",
   "nbconvert_exporter": "python",
   "pygments_lexer": "ipython3",
   "version": "3.6.4"
  }
 },
 "nbformat": 4,
 "nbformat_minor": 2
}
